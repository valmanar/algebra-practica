{
 "cells": [
  {
   "cell_type": "markdown",
   "metadata": {},
   "source": [
    "# Practica de Algebra lineal\n",
    "\n",
    "### *Nombre*"
   ]
  },
  {
   "cell_type": "markdown",
   "metadata": {},
   "source": [
    "<span style=\"color:blue\">Ejercicio 1:  \n",
    "Usando los procedimientos add y mult_vector_escalar definidos anteriormente, calcular:   \n",
    "{$\\alpha$[1,2]+[3,4] : $\\alpha$$\\in$$\\mathbb{R}$, 0$\\leq$$\\alpha$$\\leq$1, con una precision de dos decimales (para la multiplicación)}</style>"
   ]
  },
  {
   "cell_type": "code",
   "execution_count": 1,
   "metadata": {
    "collapsed": true
   },
   "outputs": [],
   "source": [
    "def addn(v,w):\n",
    "    return[v[i]+w[i] for i in range(len(v))]"
   ]
  },
  {
   "cell_type": "code",
   "execution_count": 19,
   "metadata": {
    "collapsed": true
   },
   "outputs": [],
   "source": [
    "def mult_vector_escalar(alpha,v):\n",
    "    return [alpha*v[i] for i in range(len(v))]"
   ]
  },
  {
   "cell_type": "code",
   "execution_count": 3,
   "metadata": {
    "collapsed": true
   },
   "outputs": [],
   "source": [
    "def sum_y_mult_vector_escalar(alpha, v, w):\n",
    "    return [addn(mult_vector_escalar(alpha, v), w)]"
   ]
  },
  {
   "cell_type": "code",
   "execution_count": 4,
   "metadata": {},
   "outputs": [
    {
     "data": {
      "text/plain": [
       "[[5, 8]]"
      ]
     },
     "execution_count": 4,
     "metadata": {},
     "output_type": "execute_result"
    }
   ],
   "source": [
    "alpha=2\n",
    "sum_y_mult_vector_escalar(alpha, [1,2], [3,4])"
   ]
  },
  {
   "cell_type": "markdown",
   "metadata": {},
   "source": [
    "<span style=\"color:blue\">Ejercicio 2:  \n",
    "Mortadelo y Filemón usan como clave el siguiente vector:</style>  \n",
    "> <span style=\"color:blue\">**k**=[0,1,0,0,1,0,1,0,1,0]</style>  \n",
    "\n",
    "<span style=\"color:blue\">Mortadelo quiere enviarle a Filemón el siguiente mensaje:</style>  \n",
    "> <span style=\"color:blue\">**p**=[0,0,0,1,1,1,0,1,0,1]</style>  \n",
    "\n",
    "<span style=\"color:blue\">Mortadelo encripta su mensaje añadiendo k:</style>  \n",
    "> <span style=\"color:blue\">**c**=**p**+**k**=[0,0,0,1,1,1,0,1,0,1]+[0,1,0,0,1,0,1,0,1,0]=[0,1,0,1,0,1,1,1,1,1]</style>  \n",
    "\n",
    "<span style=\"color:blue\">Cuando Filemón recibe el mensaje, lo desencripta añadiendo **k** a lo que ha recibido</style>  \n",
    "> <span style=\"color:blue\">**p**=**c**+**k**=[0,1,0,1,0,1,1,1,1,1]+[0,1,0,0,1,0,1,0,1,0]=[0,0,0,1,1,1,0,1,0,1]</style>    \n",
    "\n",
    "<span style=\"color:blue\">que es el mensaje original</style>    \n",
    "  \n",
    " <span style=\"color:blue\">¿Cómo lo harías en Python? (Definiendo un procedimiento)</style>  "
   ]
  },
  {
   "cell_type": "code",
   "execution_count": 5,
   "metadata": {
    "collapsed": true
   },
   "outputs": [],
   "source": [
    "def mensaje(recibido, clave, resultado):\n",
    "    for i in range(len(recibido)):\n",
    "        if recibido[i] == 0 and clave[i] == 0:\n",
    "            resultado.append(0)            \n",
    "        elif recibido[i] == 0 and clave[i] == 1:   \n",
    "            resultado.append(1)            \n",
    "        elif recibido[i] == 1 and clave[i] == 0:\n",
    "            resultado.append(1)            \n",
    "        elif recibido[i] == 1 and clave[i] == 1:\n",
    "            resultado.append(0)            \n",
    "    return resultado"
   ]
  },
  {
   "cell_type": "code",
   "execution_count": 6,
   "metadata": {},
   "outputs": [
    {
     "data": {
      "text/plain": [
       "[0, 0, 0, 1, 1, 1, 0, 1, 0, 1]"
      ]
     },
     "execution_count": 6,
     "metadata": {},
     "output_type": "execute_result"
    }
   ],
   "source": [
    "resultado=[]\n",
    "mensaje([0,1,0,1,0,1,1,1,1,1], [0,1,0,0,1,0,1,0,1,0], resultado)"
   ]
  },
  {
   "cell_type": "markdown",
   "metadata": {},
   "source": [
    "<span style=\"color:blue\">Ejercicio 3: coste total o beneficio. </style>\n",
    "\n",
    "<span style=\"color:blue\">Supongamos que D es el conjunto de algunos ingredientes de la cerveza: </style>\n",
    "> <span style=\"color:blue\">D={lúpulo, malta, agua, levadura}</style>  \n",
    "\n",
    "<span style=\"color:blue\">Por otro lado tenemos el vector coste:</style>  \n",
    "> <span style=\"color:blue\">coste={lúpulo: 2,5€, malta: 1.5€, agua: 0.006€, levadura: 0,45€}</style>  \n",
    "\n",
    "<span style=\"color:blue\">Por último tenemos el vector cantidad con lo necesario para hacer una cerveza:</style>  \n",
    "> <span style=\"color:blue\">cantidad={lúpulo: 6u, malta: 14u, agua: 7u, levadura: 11u}</style>  \n",
    "\n",
    "<span style=\"color:blue\">¿Cuánto cuesta hacer una cerveza?</style> "
   ]
  },
  {
   "cell_type": "code",
   "execution_count": 7,
   "metadata": {
    "collapsed": true
   },
   "outputs": [],
   "source": [
    "def producto_vectorial(u,v):\n",
    "    return sum(u[i]*v[i] for i in range(len(u)))"
   ]
  },
  {
   "cell_type": "code",
   "execution_count": 8,
   "metadata": {},
   "outputs": [
    {
     "data": {
      "text/plain": [
       "40.99"
      ]
     },
     "execution_count": 8,
     "metadata": {},
     "output_type": "execute_result"
    }
   ],
   "source": [
    "round(producto_vectorial([2.5,1.5,0.006,0.45],[6,14,7,11]),2)"
   ]
  },
  {
   "cell_type": "markdown",
   "metadata": {},
   "source": [
    "<span style=\"color:blue\"> Ejercicio 4:   \n",
    "¿Cómo escribirías cada uno de los vectores {[3,0,0],[0,2,0],[0,0,1]} como combinación lineal de {[2,0,1],[1,0,2],[2,2,2]}?\n",
    "Escribe las combinaciones lineales en Python. Seguramente tenga que definir una nueva suma.</style>"
   ]
  },
  {
   "cell_type": "code",
   "execution_count": 18,
   "metadata": {
    "collapsed": true
   },
   "outputs": [],
   "source": [
    "[3, 0, 0] = 2 [2, 0, 1] − 1 [1, 0, 2] + 0 [2, 2, 2]"
   ]
  },
  {
   "cell_type": "code",
   "execution_count": null,
   "metadata": {
    "collapsed": true
   },
   "outputs": [],
   "source": [
    "[0, 2, 0] = -2/3[2, 0, 1] − 2/3[1, 0, 2] + 1 [2, 2, 2]"
   ]
  },
  {
   "cell_type": "code",
   "execution_count": null,
   "metadata": {
    "collapsed": true
   },
   "outputs": [],
   "source": [
    "[0, 0, 1] = -1/3[2, 0, 1] + 2/3[1, 0, 2] + 0 [2, 2, 2]"
   ]
  },
  {
   "cell_type": "code",
   "execution_count": null,
   "metadata": {
    "collapsed": true
   },
   "outputs": [],
   "source": []
  },
  {
   "cell_type": "markdown",
   "metadata": {},
   "source": [
    "<span style=\"color:blue\"> Ejercicio 5:  \n",
    "Dadas las matrices $\n",
    "  A=\n",
    "  \\left[ {\\begin{array}{cc}\n",
    "   2 & -3 \\\\\n",
    "   -4 & 6\\\\\n",
    "  \\end{array} } \\right]\n",
    "$ , $\n",
    "  B=\n",
    "  \\left[ {\\begin{array}{cc}\n",
    "   8 & 4 \\\\\n",
    "   5 & 5\\\\\n",
    "  \\end{array} } \\right]\n",
    "$\n",
    "y $\n",
    "  C=\n",
    "  \\left[ {\\begin{array}{cc}\n",
    "   5 & -2 \\\\\n",
    "   3 & 1\\\\\n",
    "  \\end{array} } \\right]\n",
    "$, queremos verificar que AB=AC pero que B≠C.</style> "
   ]
  },
  {
   "cell_type": "code",
   "execution_count": 9,
   "metadata": {},
   "outputs": [
    {
     "data": {
      "text/plain": [
       "matrix([[ 1, -7],\n",
       "        [-2, 14]])"
      ]
     },
     "execution_count": 9,
     "metadata": {},
     "output_type": "execute_result"
    }
   ],
   "source": [
    "import numpy as np\n",
    "\n",
    "matrizA = np.matrix(\n",
    "    [[2, -3],\n",
    "     [-4, 6]]\n",
    ")\n",
    "\n",
    "matrizB = np.matrix(\n",
    "    [[8, 4],\n",
    "     [5, 5]]\n",
    ")\n",
    "\n",
    "matrizC = np.matrix(\n",
    "    [[5, -2],\n",
    "     [3, 1]]\n",
    ")\n",
    "\n",
    "matrizA * matrizB"
   ]
  },
  {
   "cell_type": "code",
   "execution_count": 11,
   "metadata": {},
   "outputs": [
    {
     "data": {
      "text/plain": [
       "matrix([[ 1, -7],\n",
       "        [-2, 14]])"
      ]
     },
     "execution_count": 11,
     "metadata": {},
     "output_type": "execute_result"
    }
   ],
   "source": [
    "matrizA * matrizC"
   ]
  },
  {
   "cell_type": "markdown",
   "metadata": {},
   "source": [
    "<span style=\"color:blue\"> Ejercicio 6 :  \n",
    "Dadas la matriz $\n",
    "  A=\n",
    "  \\left[ {\\begin{array}{cc}\n",
    "   3 & -6 \\\\\n",
    "   -1 & 2\\\\\n",
    "  \\end{array} } \\right]\n",
    "$ , construye una matriz B de 2 × 2 tal que AB sea igual a la matriz cero. Las columnas de B no deben ser iguales entre sí y deben ser distintas de cero.\n",
    ".</style> "
   ]
  },
  {
   "cell_type": "code",
   "execution_count": 15,
   "metadata": {},
   "outputs": [
    {
     "data": {
      "text/plain": [
       "matrix([[0, 0],\n",
       "        [0, 0]])"
      ]
     },
     "execution_count": 15,
     "metadata": {},
     "output_type": "execute_result"
    }
   ],
   "source": [
    "import numpy as np\n",
    "\n",
    "matrizA = np.matrix(\n",
    "    [[3, -6],\n",
    "     [-1, 2]]\n",
    ")\n",
    "\n",
    "matrizB = np.matrix(\n",
    "    [[2, 6],\n",
    "     [1, 3]]\n",
    ")\n",
    "matrizA*matrizB"
   ]
  },
  {
   "cell_type": "markdown",
   "metadata": {},
   "source": [
    "<span style=\"color:blue\"> Ejercicio 7:  \n",
    "Sarrus para el determinante de orden 3.  \n",
    "¿Cómo lo haríamos en Python?</style>"
   ]
  },
  {
   "cell_type": "code",
   "execution_count": 23,
   "metadata": {
    "collapsed": true
   },
   "outputs": [],
   "source": [
    "def xsarrus(A):\n",
    "    return A[0,0] * A[1,1] * A[2,2] + A[1,0] * A[2,1] * A[0,2] + A[2,0] * A[0,1] * A[1,2] - (A[0,2] * A[1,1] * A[2,0] + A[2,2] * A[1,0] * A[0,1] + A[0,0] * A[2,1] * A[1,2])"
   ]
  },
  {
   "cell_type": "code",
   "execution_count": 25,
   "metadata": {},
   "outputs": [
    {
     "data": {
      "text/plain": [
       "15"
      ]
     },
     "execution_count": 25,
     "metadata": {},
     "output_type": "execute_result"
    }
   ],
   "source": [
    "import numpy as np\n",
    "A = np.matrix(\n",
    "    [[1,-4,2],\n",
    "     [-2,8,-9],\n",
    "     [-1,7,0]]\n",
    ")\n",
    "\n",
    "xsarrus(A)"
   ]
  },
  {
   "cell_type": "markdown",
   "metadata": {},
   "source": [
    "<span style=\"color:blue\"> Ejercicio 8:  \n",
    "Sabemos que hay un modo directo en Python para calcular los rangos. Calcula el número de soluciones de estos tres sistemas de ecuaciones empleándolo.</style> "
   ]
  },
  {
   "cell_type": "markdown",
   "metadata": {},
   "source": [
    "> <span style=\"color:blue\">x<sub>1</sub> − 2x<sub>2</sub> + x<sub>3</sub> = 0 </style>  \n",
    "> <span style=\"color:blue\">2x<sub>2</sub>−8x<sub>3</sub>= 8  </style>  \n",
    "> <span style=\"color:blue\">−4x<sub>1</sub> + 5x<sub>2</sub> + 9x<sub>3</sub> =− 9</style>"
   ]
  },
  {
   "cell_type": "code",
   "execution_count": 15,
   "metadata": {},
   "outputs": [
    {
     "data": {
      "text/plain": [
       "3"
      ]
     },
     "execution_count": 15,
     "metadata": {},
     "output_type": "execute_result"
    }
   ],
   "source": [
    "#COEFICIENTE RANGO 3\n",
    "import numpy as np\n",
    "A=([\n",
    "    [1,-2,1],\n",
    "    [0,2,-8],\n",
    "    [-4,5,9]\n",
    "])\n",
    "detA=np.linalg.matrix_rank(A)\n",
    "round(detA)"
   ]
  },
  {
   "cell_type": "code",
   "execution_count": 20,
   "metadata": {},
   "outputs": [
    {
     "data": {
      "text/plain": [
       "3"
      ]
     },
     "execution_count": 20,
     "metadata": {},
     "output_type": "execute_result"
    }
   ],
   "source": [
    "#AMPLIADA RANGO 3\n",
    "import numpy as np\n",
    "AA=([\n",
    "    [1,-2,1,0],\n",
    "    [0,2,-8,8],\n",
    "    [-4,5,9,-9]\n",
    "])\n",
    "detAA=np.linalg.matrix_rank(AA)\n",
    "round(detAA)"
   ]
  },
  {
   "cell_type": "markdown",
   "metadata": {},
   "source": []
  },
  {
   "cell_type": "markdown",
   "metadata": {},
   "source": [
    "> <span style=\"color:blue\">x<sub>2</sub> −4x<sub>3</sub> =8  </style>  \n",
    "> <span style=\"color:blue\">2x<sub>1</sub> −3x<sub>2</sub> + 2x<sub>3</sub> =1  </style>  \n",
    "> <span style=\"color:blue\">5x<sub>1</sub> −8x<sub>2</sub> + 7x<sub>3</sub> =1</style>"
   ]
  },
  {
   "cell_type": "code",
   "execution_count": 16,
   "metadata": {},
   "outputs": [
    {
     "data": {
      "text/plain": [
       "2"
      ]
     },
     "execution_count": 16,
     "metadata": {},
     "output_type": "execute_result"
    }
   ],
   "source": [
    "#COEFICIENTES RANGO 2\n",
    "import numpy as np\n",
    "B=([\n",
    "    [0,1,-4],\n",
    "    [2,-3,2],\n",
    "    [5,-8,7]\n",
    "])\n",
    "detB=np.linalg.matrix_rank(B)\n",
    "round(detB)"
   ]
  },
  {
   "cell_type": "code",
   "execution_count": 17,
   "metadata": {},
   "outputs": [
    {
     "data": {
      "text/plain": [
       "3"
      ]
     },
     "execution_count": 17,
     "metadata": {},
     "output_type": "execute_result"
    }
   ],
   "source": [
    "#AMPLIADA RANGO 3\n",
    "import numpy as np\n",
    "BB=([\n",
    "    [0,1,-4,8],\n",
    "    [2,-3,2,1],\n",
    "    [5,-8,7,1]\n",
    "])\n",
    "detBB=np.linalg.matrix_rank(BB)\n",
    "round(detBB)"
   ]
  },
  {
   "cell_type": "markdown",
   "metadata": {},
   "source": []
  },
  {
   "cell_type": "markdown",
   "metadata": {},
   "source": [
    "> <span style=\"color:blue\">x<sub>1</sub> +x<sub>3</sub> =2  </style>  \n",
    "> <span style=\"color:blue\">2x<sub>1</sub> +3x<sub>2</sub> + x<sub>3</sub> =3  </style>  \n",
    "> <span style=\"color:blue\">3x<sub>1</sub> +3x<sub>2</sub> + 2x<sub>3</sub> =5</style>"
   ]
  },
  {
   "cell_type": "code",
   "execution_count": 18,
   "metadata": {},
   "outputs": [
    {
     "data": {
      "text/plain": [
       "2"
      ]
     },
     "execution_count": 18,
     "metadata": {},
     "output_type": "execute_result"
    }
   ],
   "source": [
    "#COEFICIENTES RANGO 2\n",
    "import numpy as np\n",
    "C=([\n",
    "    [1,0,1],\n",
    "    [2,3,1],\n",
    "    [3,3,2]\n",
    "])\n",
    "detC=np.linalg.matrix_rank(C)\n",
    "round(detC)"
   ]
  },
  {
   "cell_type": "code",
   "execution_count": 19,
   "metadata": {},
   "outputs": [
    {
     "data": {
      "text/plain": [
       "2"
      ]
     },
     "execution_count": 19,
     "metadata": {},
     "output_type": "execute_result"
    }
   ],
   "source": [
    "#AMPLIADA RANGO 2\n",
    "import numpy as np\n",
    "CC=([\n",
    "    [1,0,1,2],\n",
    "    [2,3,1,3],\n",
    "    [3,3,2,5]\n",
    "])\n",
    "detCC=np.linalg.matrix_rank(CC)\n",
    "round(detCC)"
   ]
  },
  {
   "cell_type": "markdown",
   "metadata": {},
   "source": []
  },
  {
   "cell_type": "markdown",
   "metadata": {},
   "source": [
    "<span style=\"color:blue\"> Ejercicio 9:  \n",
    "Comprobar que r(x,y) para un ángulo $\\theta$ es una función lineal.</style> "
   ]
  },
  {
   "cell_type": "markdown",
   "metadata": {},
   "source": []
  },
  {
   "cell_type": "markdown",
   "metadata": {},
   "source": [
    "<span style=\"color:blue\"> Ejercicio 10:  \n",
    "¿Cuál es la representación coordenada del vector v= [6, 3, 2, 5] en términos de los vectores [2, 2, 2, 3], [1, 0, −1, 0], [0, 1, 0, 1]?</style> "
   ]
  },
  {
   "cell_type": "code",
   "execution_count": 6,
   "metadata": {},
   "outputs": [
    {
     "data": {
      "text/plain": [
       "matrix([[ 2.],\n",
       "        [ 2.],\n",
       "        [-1.]])"
      ]
     },
     "execution_count": 6,
     "metadata": {},
     "output_type": "execute_result"
    }
   ],
   "source": [
    "import numpy as np\n",
    "\n",
    "A = np.matrix([\n",
    "    [2,1,0],\n",
    "    [2,0,1],\n",
    "    [2,-1,0],\n",
    "    [3,0,1]\n",
    "])\n",
    "detA=np.linalg.matrix_rank(A)\n",
    "round(detA)\n",
    "\n",
    "AM = np.matrix([\n",
    "    [2,1,0,6],\n",
    "    [2,0,1,3],\n",
    "    [2,-1,0,2],\n",
    "    [3,0,1,5]\n",
    "])\n",
    "detAM=np.linalg.matrix_rank(AM)\n",
    "round(detAM)\n",
    "#Rango 3 para la matriz y su ampliada\n",
    "C = np.matrix([\n",
    "    [2,1,0],\n",
    "    [2,0,1],\n",
    "    [2,-1,0]\n",
    "])\n",
    "B = np.matrix(\n",
    "    [[6],\n",
    "     [3],\n",
    "     [2]]\n",
    ")\n",
    "X = np.linalg.solve(C, B)\n",
    "X"
   ]
  },
  {
   "cell_type": "markdown",
   "metadata": {},
   "source": [
    "<span style=\"color:blue\"> Ejercicio 11:  \n",
    "Supongamos que queremos diseñar la red de internet para el otro campus universitario.  \n",
    "La red debe lograr la misma conectividad que el grafo de entrada.  \n",
    "Una arista representa un posible cable.  \n",
    "El peso de la arista es el coste de instalar el cable.  \n",
    "Nuestro objetivo es minimizar el coste total, usando el algoritmo Grow y el algoritmo Shrink.  </style> "
   ]
  },
  {
   "cell_type": "markdown",
   "metadata": {},
   "source": [
    "#Grow\n",
    "\n",
    "> <span style=\"color:orange\"> S={{Pembroke Campus, Bio-Med},{Pembroke Campus, Atheletic Complex}} </style>\n",
    "\n",
    "#Shrink\n",
    "\n",
    "> <span style=\"color:orange\"> S={{Pembroke Campus, Atheletic Complex},{Pembroke Campus, Bio-Med}} </style>"
   ]
  },
  {
   "cell_type": "markdown",
   "metadata": {},
   "source": [
    "<span style=\"color:blue\"> Ejercicio 12:  \n",
    "Sea la matriz $\n",
    "  M=\n",
    "  \\left[ {\\begin{array}{cc}\n",
    "   1 & 0  & 0 & 5 \\\\\n",
    "   0 & 2  & 0 & 7 \\\\\n",
    "   0 & 0  & 3 & 9 \\\\\n",
    "  \\end{array} } \\right]\n",
    "$. Calcular el rango por filas y por columnas usando Python.</style> "
   ]
  },
  {
   "cell_type": "code",
   "execution_count": 1,
   "metadata": {},
   "outputs": [
    {
     "data": {
      "text/plain": [
       "3"
      ]
     },
     "execution_count": 1,
     "metadata": {},
     "output_type": "execute_result"
    }
   ],
   "source": [
    "import numpy as np\n",
    "M=([\n",
    "    [1,0,0,5],\n",
    "    [0,2,0,7],\n",
    "    [0,0,3,9]\n",
    "])\n",
    "rangoM=np.linalg.matrix_rank(M)\n",
    "rangoM"
   ]
  },
  {
   "cell_type": "code",
   "execution_count": 2,
   "metadata": {},
   "outputs": [
    {
     "data": {
      "text/plain": [
       "3"
      ]
     },
     "execution_count": 2,
     "metadata": {},
     "output_type": "execute_result"
    }
   ],
   "source": [
    "import numpy as np\n",
    "M=([\n",
    "    [1,0,0,5],\n",
    "    [0,2,0,7],\n",
    "    [0,0,3,9]\n",
    "])\n",
    "MT=np.transpose(M)\n",
    "rangoMT=np.linalg.matrix_rank(MT)\n",
    "rangoMT"
   ]
  },
  {
   "cell_type": "markdown",
   "metadata": {
    "collapsed": true
   },
   "source": [
    "<span style=\"color:blue\"> Ejercicio 13 (opcional):  \n",
    "Crea un algoritmo que transforme una matriz cualquiera en GF(2) en una matriz escalonada.</style> "
   ]
  },
  {
   "cell_type": "code",
   "execution_count": null,
   "metadata": {
    "collapsed": true
   },
   "outputs": [],
   "source": []
  },
  {
   "cell_type": "markdown",
   "metadata": {},
   "source": [
    "<span style=\"color:blue\"> Ejercicio 14:  \n",
    "Modificar lo necesario en los algoritmos para que funcionen y calculen el problema de la casa en llamas.</style>"
   ]
  },
  {
   "cell_type": "code",
   "execution_count": null,
   "metadata": {
    "collapsed": true
   },
   "outputs": [],
   "source": []
  }
 ],
 "metadata": {
  "kernelspec": {
   "display_name": "Python 2",
   "language": "python",
   "name": "python2"
  },
  "language_info": {
   "codemirror_mode": {
    "name": "ipython",
    "version": 2
   },
   "file_extension": ".py",
   "mimetype": "text/x-python",
   "name": "python",
   "nbconvert_exporter": "python",
   "pygments_lexer": "ipython2",
   "version": "2.7.14"
  }
 },
 "nbformat": 4,
 "nbformat_minor": 2
}
